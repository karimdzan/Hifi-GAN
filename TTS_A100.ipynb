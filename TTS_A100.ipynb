{
  "cells": [
    {
      "cell_type": "code",
      "execution_count": null,
      "metadata": {
        "id": "OOg2bhugYWNL"
      },
      "outputs": [],
      "source": [
        "!unzip dla.zip"
      ]
    },
    {
      "cell_type": "code",
      "execution_count": null,
      "metadata": {
        "id": "1dmUJeGOYhri"
      },
      "outputs": [],
      "source": [
        "!rm dla.zip"
      ]
    },
    {
      "cell_type": "code",
      "execution_count": null,
      "metadata": {
        "id": "Z8d-Unq_Yhtl"
      },
      "outputs": [],
      "source": [
        "!cd dla && bash ./prepare.sh"
      ]
    },
    {
      "cell_type": "code",
      "execution_count": null,
      "metadata": {
        "id": "1AYAvqc0Yp02"
      },
      "outputs": [],
      "source": [
        "!cd dla && pip install -r requirements.txt"
      ]
    },
    {
      "cell_type": "code",
      "execution_count": null,
      "metadata": {
        "id": "_7u-MfA6YsMv"
      },
      "outputs": [],
      "source": [
        "!cd dla && python3 src/compute_pitch_energy.py"
      ]
    },
    {
      "cell_type": "code",
      "execution_count": null,
      "metadata": {
        "colab": {
          "base_uri": "https://localhost:8080/"
        },
        "id": "qYLwte1-Yp3K",
        "outputId": "a52e0872-9406-4f7f-be81-da5238725444"
      },
      "outputs": [
        {
          "name": "stdout",
          "output_type": "stream",
          "text": [
            "Thu Nov 23 09:42:03 2023       \n",
            "+-----------------------------------------------------------------------------+\n",
            "| NVIDIA-SMI 525.105.17   Driver Version: 525.105.17   CUDA Version: 12.0     |\n",
            "|-------------------------------+----------------------+----------------------+\n",
            "| GPU  Name        Persistence-M| Bus-Id        Disp.A | Volatile Uncorr. ECC |\n",
            "| Fan  Temp  Perf  Pwr:Usage/Cap|         Memory-Usage | GPU-Util  Compute M. |\n",
            "|                               |                      |               MIG M. |\n",
            "|===============================+======================+======================|\n",
            "|   0  NVIDIA A100-SXM...  Off  | 00000000:00:04.0 Off |                    0 |\n",
            "| N/A   32C    P0    45W / 400W |      0MiB / 40960MiB |      0%      Default |\n",
            "|                               |                      |             Disabled |\n",
            "+-------------------------------+----------------------+----------------------+\n",
            "                                                                               \n",
            "+-----------------------------------------------------------------------------+\n",
            "| Processes:                                                                  |\n",
            "|  GPU   GI   CI        PID   Type   Process name                  GPU Memory |\n",
            "|        ID   ID                                                   Usage      |\n",
            "|=============================================================================|\n",
            "|  No running processes found                                                 |\n",
            "+-----------------------------------------------------------------------------+\n"
          ]
        }
      ],
      "source": [
        "!nvidia-smi"
      ]
    },
    {
      "cell_type": "code",
      "execution_count": 28,
      "metadata": {
        "colab": {
          "base_uri": "https://localhost:8080/"
        },
        "id": "UbQrkA43YqBv",
        "outputId": "f2703812-6ea5-4d33-9672-1589b1c3f1f2"
      },
      "outputs": [
        {
          "output_type": "stream",
          "name": "stdout",
          "text": [
            "100% 13100/13100 [01:11<00:00, 182.22it/s]\n",
            "cost 71.89s to load all data into buffer.\n",
            "/usr/local/lib/python3.10/dist-packages/torch/serialization.py:1101: SourceChangeWarning: source code of class 'glow.WaveGlow' has changed. Saved a reverse patch to WaveGlow.patch. Run `patch -p0 < WaveGlow.patch` to revert your changes.\n",
            "  warnings.warn(msg, SourceChangeWarning)\n",
            "/usr/local/lib/python3.10/dist-packages/torch/serialization.py:1101: SourceChangeWarning: source code of class 'torch.nn.modules.conv.ConvTranspose1d' has changed. Saved a reverse patch to ConvTranspose1d.patch. Run `patch -p0 < ConvTranspose1d.patch` to revert your changes.\n",
            "  warnings.warn(msg, SourceChangeWarning)\n",
            "/usr/local/lib/python3.10/dist-packages/torch/serialization.py:1101: SourceChangeWarning: source code of class 'torch.nn.modules.container.ModuleList' has changed. Saved a reverse patch to ModuleList.patch. Run `patch -p0 < ModuleList.patch` to revert your changes.\n",
            "  warnings.warn(msg, SourceChangeWarning)\n",
            "/usr/local/lib/python3.10/dist-packages/torch/serialization.py:1101: SourceChangeWarning: source code of class 'glow.WN' has changed. Saved a reverse patch to WN.patch. Run `patch -p0 < WN.patch` to revert your changes.\n",
            "  warnings.warn(msg, SourceChangeWarning)\n",
            "/usr/local/lib/python3.10/dist-packages/torch/serialization.py:1101: SourceChangeWarning: source code of class 'torch.nn.modules.conv.Conv1d' has changed. Saved a reverse patch to Conv1d.patch. Run `patch -p0 < Conv1d.patch` to revert your changes.\n",
            "  warnings.warn(msg, SourceChangeWarning)\n",
            "/usr/local/lib/python3.10/dist-packages/torch/serialization.py:1101: SourceChangeWarning: source code of class 'glow.Invertible1x1Conv' has changed. Saved a reverse patch to Invertible1x1Conv.patch. Run `patch -p0 < Invertible1x1Conv.patch` to revert your changes.\n",
            "  warnings.warn(msg, SourceChangeWarning)\n",
            "\u001b[34m\u001b[1mwandb\u001b[0m: Currently logged in as: \u001b[33mkarimdzan\u001b[0m. Use \u001b[1m`wandb login --relogin`\u001b[0m to force relogin\n",
            "\u001b[34m\u001b[1mwandb\u001b[0m: Tracking run with wandb version 0.16.0\n",
            "\u001b[34m\u001b[1mwandb\u001b[0m: Run data is saved locally in \u001b[35m\u001b[1m/content/dla/wandb/run-20231123_094855-o2ydcxfz\u001b[0m\n",
            "\u001b[34m\u001b[1mwandb\u001b[0m: Run \u001b[1m`wandb offline`\u001b[0m to turn off syncing.\n",
            "\u001b[34m\u001b[1mwandb\u001b[0m: Syncing run \u001b[33mcool-leaf-39\u001b[0m\n",
            "\u001b[34m\u001b[1mwandb\u001b[0m: ⭐️ View project at \u001b[34m\u001b[4mhttps://wandb.ai/karimdzan/hw_tts\u001b[0m\n",
            "\u001b[34m\u001b[1mwandb\u001b[0m: 🚀 View run at \u001b[34m\u001b[4mhttps://wandb.ai/karimdzan/hw_tts/runs/o2ydcxfz\u001b[0m\n",
            "  1% 5000/384000 [33:41<47:16:45,  2.23it/s]/content/dla/glow.py:270: UserWarning: The torch.cuda.*DtypeTensor constructors are no longer recommended. It's best to use methods such as torch.tensor(data, dtype=*, device='cuda') to create tensors. (Triggered internally at ../torch/csrc/tensor/python_tensor.cpp:83.)\n",
            "  audio = torch.cuda.FloatTensor(spect.size(0),\n",
            "save model at step 5000 ...\n",
            "  3% 10000/384000 [1:08:13<43:15:06,  2.40it/s]save model at step 10000 ...\n",
            "  4% 15000/384000 [1:43:03<37:33:01,  2.73it/s]save model at step 15000 ...\n",
            "  5% 20000/384000 [2:17:51<29:51:07,  3.39it/s]save model at step 20000 ...\n",
            "  7% 25000/384000 [2:53:05<45:13:17,  2.21it/s]save model at step 25000 ...\n",
            "  8% 30000/384000 [3:28:21<42:45:56,  2.30it/s]save model at step 30000 ...\n",
            "  9% 35000/384000 [4:03:38<35:06:39,  2.76it/s]save model at step 35000 ...\n",
            " 10% 40000/384000 [4:38:54<30:17:56,  3.15it/s]save model at step 40000 ...\n",
            " 12% 45000/384000 [5:14:13<43:21:27,  2.17it/s]save model at step 45000 ...\n",
            " 13% 50000/384000 [5:49:23<38:55:00,  2.38it/s]save model at step 50000 ...\n",
            " 14% 55000/384000 [6:24:38<34:41:08,  2.63it/s]save model at step 55000 ...\n",
            " 16% 60000/384000 [7:00:03<26:52:53,  3.35it/s]save model at step 60000 ...\n",
            " 17% 65000/384000 [7:35:32<40:06:25,  2.21it/s]save model at step 65000 ...\n",
            " 18% 70000/384000 [8:10:57<37:26:22,  2.33it/s]\u001b[34m\u001b[1mwandb\u001b[0m: Network error resolved after 0:00:01.271861, resuming normal operation.\n",
            "save model at step 70000 ...\n",
            " 20% 75000/384000 [8:46:50<31:50:03,  2.70it/s]save model at step 75000 ...\n",
            " 21% 80000/384000 [9:22:23<26:07:17,  3.23it/s]save model at step 80000 ...\n",
            " 21% 80006/384000 [9:22:51<146:43:15,  1.74s/it]\u001b[34m\u001b[1mwandb\u001b[0m: Network error resolved after 0:00:00.267941, resuming normal operation.\n",
            " 22% 85000/384000 [9:57:52<38:03:22,  2.18it/s]save model at step 85000 ...\n",
            " 23% 90000/384000 [10:33:12<34:39:38,  2.36it/s]\u001b[34m\u001b[1mwandb\u001b[0m: Network error resolved after 0:00:00.259618, resuming normal operation.\n",
            "save model at step 90000 ...\n",
            "\u001b[34m\u001b[1mwandb\u001b[0m:                                                                                \n",
            "\u001b[34m\u001b[1mwandb\u001b[0m: \n",
            "\u001b[34m\u001b[1mwandb\u001b[0m: Run history:\n",
            "\u001b[34m\u001b[1mwandb\u001b[0m: train/duration_loss █▇▅▅▃▄▃▃▃▂▃▃▃▃▂▂▂▂▂▂▂▂▂▂▂▂▁▁▁▁▁▁▁▁▁▁▁▁▁▁\n",
            "\u001b[34m\u001b[1mwandb\u001b[0m:   train/energy_loss █▇▆▅▄▄▄▄▄▄▄▄▃▃▃▃▃▃▃▃▃▃▂▂▂▂▂▂▂▂▂▂▂▂▂▁▂▁▁▂\n",
            "\u001b[34m\u001b[1mwandb\u001b[0m:      train/mel_loss █▇▅▄▄▄▃▃▃▃▃▃▂▂▂▂▂▂▂▂▂▂▁▂▂▂▂▂▂▂▂▂▂▂▂▁▁▁▁▂\n",
            "\u001b[34m\u001b[1mwandb\u001b[0m:    train/pitch_loss █▇▆▅▄▄▃▃▃▃▃▃▃▃▃▃▂▂▂▂▂▂▂▂▂▂▁▂▁▁▂▁▁▁▁▁▁▁▁▁\n",
            "\u001b[34m\u001b[1mwandb\u001b[0m: train/steps_per_sec ▃█▆▂▅▅▃▇▃▂▂▃▂▃▃▂▄▂▃▃▄▄▃▅▂▃▂▄▂▂▁▁▁▄▂▃▂▃▃▃\n",
            "\u001b[34m\u001b[1mwandb\u001b[0m:    train/total_loss █▇▆▅▄▄▃▃▃▃▃▃▃▃▃▃▂▂▂▂▂▂▂▂▂▂▁▂▁▂▂▁▁▁▁▁▁▁▁▁\n",
            "\u001b[34m\u001b[1mwandb\u001b[0m: \n",
            "\u001b[34m\u001b[1mwandb\u001b[0m: Run summary:\n",
            "\u001b[34m\u001b[1mwandb\u001b[0m: train/duration_loss 0.06833\n",
            "\u001b[34m\u001b[1mwandb\u001b[0m:   train/energy_loss 0.11985\n",
            "\u001b[34m\u001b[1mwandb\u001b[0m:      train/mel_loss 0.32735\n",
            "\u001b[34m\u001b[1mwandb\u001b[0m:    train/pitch_loss 0.89457\n",
            "\u001b[34m\u001b[1mwandb\u001b[0m: train/steps_per_sec 2.49144\n",
            "\u001b[34m\u001b[1mwandb\u001b[0m:    train/total_loss 1.4101\n",
            "\u001b[34m\u001b[1mwandb\u001b[0m: \n",
            "\u001b[34m\u001b[1mwandb\u001b[0m: 🚀 View run \u001b[33mcool-leaf-39\u001b[0m at: \u001b[34m\u001b[4mhttps://wandb.ai/karimdzan/hw_tts/runs/o2ydcxfz\u001b[0m\n",
            "\u001b[34m\u001b[1mwandb\u001b[0m: ️⚡ View job at \u001b[34m\u001b[4mhttps://wandb.ai/karimdzan/hw_tts/jobs/QXJ0aWZhY3RDb2xsZWN0aW9uOjExNjkxOTAwOQ==/version_details/v12\u001b[0m\n",
            "\u001b[34m\u001b[1mwandb\u001b[0m: Synced 5 W&B file(s), 1458 media file(s), 2 artifact file(s) and 0 other file(s)\n",
            "\u001b[34m\u001b[1mwandb\u001b[0m: Find logs at: \u001b[35m\u001b[1m./wandb/run-20231123_094855-o2ydcxfz/logs\u001b[0m\n",
            "/usr/local/lib/python3.10/dist-packages/wandb/sdk/wandb_run.py:2163: UserWarning: Run (o2ydcxfz) is finished. The call to `_console_raw_callback` will be ignored. Please make sure that you are using an active run.\n",
            "  lambda data: self._console_raw_callback(\"stderr\", data),\n",
            " 24% 90673/384000 [10:38:33<34:25:44,  2.37it/s]\n"
          ]
        }
      ],
      "source": [
        "!cd dla && python3 train.py"
      ]
    }
  ],
  "metadata": {
    "accelerator": "GPU",
    "colab": {
      "machine_shape": "hm",
      "provenance": []
    },
    "kernelspec": {
      "display_name": "Python 3",
      "name": "python3"
    },
    "language_info": {
      "name": "python"
    }
  },
  "nbformat": 4,
  "nbformat_minor": 0
}